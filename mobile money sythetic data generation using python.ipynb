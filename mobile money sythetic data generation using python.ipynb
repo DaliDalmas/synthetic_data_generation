{
 "cells": [
  {
   "cell_type": "code",
   "execution_count": 92,
   "metadata": {},
   "outputs": [],
   "source": [
    "import pandas as pd\n",
    "import numpy as np\n",
    "import faker as fk\n",
    "import random\n",
    "import time\n",
    "from datetime import datetime"
   ]
  },
  {
   "cell_type": "code",
   "execution_count": 93,
   "metadata": {},
   "outputs": [],
   "source": [
    "number_of_transactions = 500\n",
    "number_of_phone_numbers = 20"
   ]
  },
  {
   "cell_type": "code",
   "execution_count": 94,
   "metadata": {},
   "outputs": [
    {
     "data": {
      "text/plain": [
       "'610673'"
      ]
     },
     "execution_count": 94,
     "metadata": {},
     "output_type": "execute_result"
    }
   ],
   "source": [
    "str(int(random.random()*1000000))"
   ]
  },
  {
   "cell_type": "code",
   "execution_count": 95,
   "metadata": {},
   "outputs": [],
   "source": [
    "# Generating transactions\n",
    "prefix=['0'+str(i) for i in range(750,794)]\n",
    "phone_numbers=[j for j in [random.choice(prefix)+str(int(random.random()*1000000)) for i in range(number_of_phone_numbers)] if len(j)>9]\n",
    "transaction_type = ['send','buy','withdraw','paybill', 'fees', 'deposit']\n",
    "buy_categories=['airtime','data']\n",
    "paybill_categories=['water','tv','donation','electricity']"
   ]
  },
  {
   "cell_type": "code",
   "execution_count": 96,
   "metadata": {},
   "outputs": [],
   "source": [
    "def randomDate(start, end):\n",
    "    frmt = '%d-%m-%Y %H:%M:%S'\n",
    "\n",
    "    stime = time.mktime(time.strptime(start, frmt))\n",
    "    etime = time.mktime(time.strptime(end, frmt))\n",
    "\n",
    "    ptime = stime + random.random() * (etime - stime)\n",
    "    dt = datetime.fromtimestamp(time.mktime(time.localtime(ptime)))\n",
    "    return dt"
   ]
  },
  {
   "cell_type": "code",
   "execution_count": 97,
   "metadata": {},
   "outputs": [],
   "source": [
    "transactions=[]\n",
    "for transaction in range(number_of_transactions):\n",
    "    idd=str(transaction)\n",
    "    user = random.choice(phone_numbers)\n",
    "    transType=random.choice(transaction_type)\n",
    "    if transType=='buy':\n",
    "        category=random.choice(buy_categories)\n",
    "    elif transType=='paybill':\n",
    "        category=random.choice(paybill_categories)\n",
    "    else:\n",
    "        category=''\n",
    "        \n",
    "    if transType=='send':\n",
    "        send_to = random.choice(phone_numbers)\n",
    "    else:\n",
    "        send_to = ''\n",
    "        \n",
    "    if transType=='withdraw':\n",
    "        withdraw_from = random.choice(phone_numbers)\n",
    "    else:\n",
    "        withdraw_from = ''\n",
    "        \n",
    "    if transType == 'deposit':\n",
    "        deposit_from = random.choice(phone_numbers)\n",
    "    else:\n",
    "        deposit_from = ''\n",
    "        \n",
    "    amount = round(random.randint(0,100000000)/random.randint(1,1000),2)\n",
    "    \n",
    "    timestamp = randomDate(\"20-01-2018 13:30:00\", \"30-10-2020 04:50:34\")\n",
    "    \n",
    "    transactions.append([idd,user,transType,category,amount,send_to,withdraw_from,deposit_from,timestamp])\n",
    "cols= ['id','user','transaction type','category','amount','send to','withdraw from','deposit from','timestamp']"
   ]
  },
  {
   "cell_type": "code",
   "execution_count": 98,
   "metadata": {},
   "outputs": [],
   "source": [
    "data=pd.DataFrame(transactions)\n",
    "data.columns=cols"
   ]
  },
  {
   "cell_type": "code",
   "execution_count": 99,
   "metadata": {},
   "outputs": [
    {
     "data": {
      "text/html": [
       "<div>\n",
       "<style scoped>\n",
       "    .dataframe tbody tr th:only-of-type {\n",
       "        vertical-align: middle;\n",
       "    }\n",
       "\n",
       "    .dataframe tbody tr th {\n",
       "        vertical-align: top;\n",
       "    }\n",
       "\n",
       "    .dataframe thead th {\n",
       "        text-align: right;\n",
       "    }\n",
       "</style>\n",
       "<table border=\"1\" class=\"dataframe\">\n",
       "  <thead>\n",
       "    <tr style=\"text-align: right;\">\n",
       "      <th></th>\n",
       "      <th>id</th>\n",
       "      <th>user</th>\n",
       "      <th>transaction type</th>\n",
       "      <th>category</th>\n",
       "      <th>amount</th>\n",
       "      <th>send to</th>\n",
       "      <th>withdraw from</th>\n",
       "      <th>deposit from</th>\n",
       "      <th>timestamp</th>\n",
       "    </tr>\n",
       "  </thead>\n",
       "  <tbody>\n",
       "    <tr>\n",
       "      <th>0</th>\n",
       "      <td>0</td>\n",
       "      <td>0752215126</td>\n",
       "      <td>deposit</td>\n",
       "      <td></td>\n",
       "      <td>14317.49</td>\n",
       "      <td></td>\n",
       "      <td></td>\n",
       "      <td>0774796872</td>\n",
       "      <td>2018-12-11 18:13:41</td>\n",
       "    </tr>\n",
       "    <tr>\n",
       "      <th>1</th>\n",
       "      <td>1</td>\n",
       "      <td>0773702333</td>\n",
       "      <td>withdraw</td>\n",
       "      <td></td>\n",
       "      <td>6314909.62</td>\n",
       "      <td></td>\n",
       "      <td>0785128460</td>\n",
       "      <td></td>\n",
       "      <td>2019-02-14 00:10:03</td>\n",
       "    </tr>\n",
       "    <tr>\n",
       "      <th>2</th>\n",
       "      <td>2</td>\n",
       "      <td>0770122536</td>\n",
       "      <td>fees</td>\n",
       "      <td></td>\n",
       "      <td>60918.57</td>\n",
       "      <td></td>\n",
       "      <td></td>\n",
       "      <td></td>\n",
       "      <td>2018-11-02 10:49:55</td>\n",
       "    </tr>\n",
       "    <tr>\n",
       "      <th>3</th>\n",
       "      <td>3</td>\n",
       "      <td>0752221556</td>\n",
       "      <td>deposit</td>\n",
       "      <td></td>\n",
       "      <td>73532.04</td>\n",
       "      <td></td>\n",
       "      <td></td>\n",
       "      <td>0770122536</td>\n",
       "      <td>2018-05-01 16:31:01</td>\n",
       "    </tr>\n",
       "    <tr>\n",
       "      <th>4</th>\n",
       "      <td>4</td>\n",
       "      <td>0770122536</td>\n",
       "      <td>withdraw</td>\n",
       "      <td></td>\n",
       "      <td>212315.66</td>\n",
       "      <td></td>\n",
       "      <td>0773315944</td>\n",
       "      <td></td>\n",
       "      <td>2020-03-05 07:43:26</td>\n",
       "    </tr>\n",
       "  </tbody>\n",
       "</table>\n",
       "</div>"
      ],
      "text/plain": [
       "  id        user transaction type category      amount send to withdraw from  \\\n",
       "0  0  0752215126          deposit             14317.49                         \n",
       "1  1  0773702333         withdraw           6314909.62            0785128460   \n",
       "2  2  0770122536             fees             60918.57                         \n",
       "3  3  0752221556          deposit             73532.04                         \n",
       "4  4  0770122536         withdraw            212315.66            0773315944   \n",
       "\n",
       "  deposit from           timestamp  \n",
       "0   0774796872 2018-12-11 18:13:41  \n",
       "1              2019-02-14 00:10:03  \n",
       "2              2018-11-02 10:49:55  \n",
       "3   0770122536 2018-05-01 16:31:01  \n",
       "4              2020-03-05 07:43:26  "
      ]
     },
     "execution_count": 99,
     "metadata": {},
     "output_type": "execute_result"
    }
   ],
   "source": [
    "data.head()"
   ]
  },
  {
   "cell_type": "code",
   "execution_count": 100,
   "metadata": {},
   "outputs": [
    {
     "data": {
      "text/plain": [
       "500"
      ]
     },
     "execution_count": 100,
     "metadata": {},
     "output_type": "execute_result"
    }
   ],
   "source": [
    "data.shape[0]"
   ]
  },
  {
   "cell_type": "code",
   "execution_count": 101,
   "metadata": {},
   "outputs": [],
   "source": [
    "data.to_csv('mobile_money_synthetic_data.csv')"
   ]
  },
  {
   "cell_type": "code",
   "execution_count": null,
   "metadata": {},
   "outputs": [],
   "source": []
  }
 ],
 "metadata": {
  "kernelspec": {
   "display_name": "Python 3",
   "language": "python",
   "name": "python3"
  },
  "language_info": {
   "codemirror_mode": {
    "name": "ipython",
    "version": 3
   },
   "file_extension": ".py",
   "mimetype": "text/x-python",
   "name": "python",
   "nbconvert_exporter": "python",
   "pygments_lexer": "ipython3",
   "version": "3.8.5"
  }
 },
 "nbformat": 4,
 "nbformat_minor": 4
}
